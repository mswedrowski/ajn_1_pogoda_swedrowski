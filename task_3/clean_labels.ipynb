{
 "metadata": {
  "language_info": {
   "codemirror_mode": {
    "name": "ipython",
    "version": 3
   },
   "file_extension": ".py",
   "mimetype": "text/x-python",
   "name": "python",
   "nbconvert_exporter": "python",
   "pygments_lexer": "ipython3",
   "version": "3.8.5-final"
  },
  "orig_nbformat": 2,
  "kernelspec": {
   "name": "python38264bita7d7da14168440cb9836372958035d4a",
   "display_name": "Python 3.8.2 64-bit"
  }
 },
 "nbformat": 4,
 "nbformat_minor": 2,
 "cells": [
  {
   "cell_type": "code",
   "execution_count": 18,
   "metadata": {},
   "outputs": [],
   "source": [
    "import os\n",
    "from glob import glob\n",
    "\n",
    "filenames = glob(\"./poleval/*.xml\")\n",
    "\n",
    "os.system(\"rm ./clean_text/*\")\n",
    "\n",
    "for filename in filenames:\n",
    "    with open(filename, 'r') as f:\n",
    "        text = f.read()\n",
    "        text = text.replace(' disamb=\"1\"', '')\n",
    "\n",
    "    file_out = \"./clean_text/\" + \".\".join(filename.split(\"/\")[-1].split(\".\")[:-1]) + \".txt\"\n",
    "    add_space = False\n",
    "    output = \"\"\n",
    "    for line in text.split(\"\\n\"):\n",
    "        if line.find('orth') >= 0:\n",
    "            if add_space:\n",
    "                output += \" \"\n",
    "            else:\n",
    "                add_space = True\n",
    "\n",
    "            output += line.replace(\"<orth>\", \"\").replace(\"</orth>\", \"\")\n",
    "        if line.find('<ns/>') >= 0:\n",
    "            add_space = False\n",
    "\n",
    "        if line.find('</chunk>') >= 0:\n",
    "            output += \"\\n\"\n",
    "            add_space = False\n",
    "\n",
    "    with open(file_out, 'w') as f:\n",
    "        f.write(output)\n",
    "\n"
   ]
  },
  {
   "cell_type": "code",
   "execution_count": null,
   "metadata": {},
   "outputs": [],
   "source": []
  }
 ]
}