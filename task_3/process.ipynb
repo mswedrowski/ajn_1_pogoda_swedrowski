{
 "metadata": {
  "language_info": {
   "codemirror_mode": {
    "name": "ipython",
    "version": 3
   },
   "file_extension": ".py",
   "mimetype": "text/x-python",
   "name": "python",
   "nbconvert_exporter": "python",
   "pygments_lexer": "ipython3",
   "version": "3.8.5-final"
  },
  "orig_nbformat": 2,
  "kernelspec": {
   "name": "Python 3.8.5 64-bit",
   "display_name": "Python 3.8.5 64-bit",
   "metadata": {
    "interpreter": {
     "hash": "31f2aee4e71d21fbe5cf8b01ff0e069b9275f58929596ceb00d14d90e3e16cd6"
    }
   }
  }
 },
 "nbformat": 4,
 "nbformat_minor": 2,
 "cells": [
  {
   "cell_type": "code",
   "execution_count": 15,
   "metadata": {},
   "outputs": [],
   "source": [
    "from lpmn_client.src.requester import Requester \n",
    "import os\n",
    "from glob import glob"
   ]
  },
  {
   "cell_type": "code",
   "execution_count": 24,
   "metadata": {},
   "outputs": [],
   "source": [
    "taggers = {\n",
    "    'wcrft': 'wcrft2({\"guesser\": false, \"morfeusz2\": true})',\n",
    "    'morphodita': 'morphoDita({\"guesser\": false, \"allforms\": false, \"model\": \"XXI\"})',\n",
    "    'cmct': 'maca({\"morfeusz2\": true})|cmct({\"full_output\": false})'\n",
    "}"
   ]
  },
  {
   "cell_type": "code",
   "execution_count": 25,
   "metadata": {},
   "outputs": [
    {
     "output_type": "stream",
     "name": "stdout",
     "text": [
      "Zipping input file...\n",
      "\n",
      "Processing query complete\n",
      "\n",
      "Zipping input file...\n",
      "\n",
      "Processing query complete\n",
      "\n",
      "Zipping input file...\n",
      "\n",
      "Processing query complete\n",
      "\n",
      "Zipping input file...\n",
      "\n",
      "Processing query complete\n",
      "\n"
     ]
    }
   ],
   "source": [
    "input_files = glob(\"./clean_text/*.txt\")\n",
    "\n",
    "os.system(f\"rm -r ./predictions/*\")\n",
    "\n",
    "for input_file in input_files:\n",
    "    for tagger_name, tagger in taggers.items():\n",
    "        output_dir = f'./predictions/{tagger_name}'\n",
    "        os.makedirs(output_dir, exist_ok=True)\n",
    "\n",
    "        requester = Requester(\"mipo57gd@gmail.com\")\n",
    "        filename = input_file\n",
    "        lpmn_query = f'any2txt|{tagger}'\n",
    "\n",
    "        requester.upload_file(filename)\n",
    "        response = requester.process_query(lpmn_query)\n",
    "        requester.download_response(response,f\"./predictions/{tagger_name}/out.zip\")\n",
    "\n",
    "        os.system(f\"unzip {output_dir}/out.zip -d {output_dir}/\")\n",
    "        os.system(f\"rm {output_dir}/out.zip\")\n",
    "\n",
    "        filename = input_file.split(\"/\")[-1]\n",
    "        tagged_filename = f\"clean_text%{filename}\"\n",
    "        filename = filename.replace(\".txt\", \".xml\")\n",
    "\n",
    "        os.system(f\"mv {output_dir}/{tagged_filename} {output_dir}/{filename}\")\n",
    "\n",
    "\n",
    "\n"
   ]
  },
  {
   "cell_type": "code",
   "execution_count": null,
   "metadata": {},
   "outputs": [],
   "source": []
  }
 ]
}