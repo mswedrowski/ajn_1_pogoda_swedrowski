{
 "metadata": {
  "language_info": {
   "codemirror_mode": {
    "name": "ipython",
    "version": 3
   },
   "file_extension": ".py",
   "mimetype": "text/x-python",
   "name": "python",
   "nbconvert_exporter": "python",
   "pygments_lexer": "ipython3",
   "version": "3.8.5-final"
  },
  "orig_nbformat": 2,
  "kernelspec": {
   "name": "Python 3.8.5 64-bit",
   "display_name": "Python 3.8.5 64-bit",
   "metadata": {
    "interpreter": {
     "hash": "31f2aee4e71d21fbe5cf8b01ff0e069b9275f58929596ceb00d14d90e3e16cd6"
    }
   }
  }
 },
 "nbformat": 4,
 "nbformat_minor": 2,
 "cells": [
  {
   "cell_type": "code",
   "execution_count": 1,
   "metadata": {},
   "outputs": [],
   "source": [
    "from glob import glob\n",
    "import re"
   ]
  },
  {
   "cell_type": "code",
   "execution_count": 2,
   "metadata": {},
   "outputs": [],
   "source": [
    "def extract_tags(file_path):\n",
    "    orths = []\n",
    "    tags = []\n",
    "\n",
    "    with open(file_path, 'r') as f:\n",
    "        text = f.read()\n",
    "\n",
    "        for line in text.split(\"\\n\"):\n",
    "            if line.find('disamb=\"1\"') >= 0:\n",
    "                tag = re.findall(r\"<ctag>(.+)<\\/ctag>\", line)[0]\n",
    "                tags.append(tag)\n",
    "            elif line.find('<orth>') >= 0:\n",
    "                orth = re.findall(r\"<orth>(.+)<\\/orth>\", line)[0]\n",
    "                orths.append(orth)\n",
    "\n",
    "    return tags, orths\n",
    "\n",
    "def remove_unmatched(reference_orhts, predicted_orths):\n",
    "    i_reference = 0\n",
    "    i_predicted = 0"
   ]
  },
  {
   "cell_type": "code",
   "execution_count": 3,
   "metadata": {},
   "outputs": [],
   "source": [
    "predictions_folder = \"predictions\"\n",
    "reference_folder = \"poleval\"\n",
    "\n",
    "tagger_folder = \"predictions/cmct\"\n",
    "tagger = tagger_folder.split(\"/\")[-1]\n",
    "\n",
    "reference_file = \"poleval/gold-task-c.xml\"\n",
    "filename = reference_file.split(\"/\")[-1]\n",
    "\n",
    "tags_predicted, orths_predicted = extract_tags(f\"{tagger_folder}/{filename}\")\n",
    "tags_reference, orths_reference = extract_tags(reference_file)"
   ]
  },
  {
   "cell_type": "code",
   "execution_count": 6,
   "metadata": {},
   "outputs": [
    {
     "output_type": "execute_result",
     "data": {
      "text/plain": [
       "28099"
      ]
     },
     "metadata": {},
     "execution_count": 6
    }
   ],
   "source": [
    "len(tags_predicted)"
   ]
  },
  {
   "cell_type": "code",
   "execution_count": 7,
   "metadata": {},
   "outputs": [
    {
     "output_type": "execute_result",
     "data": {
      "text/plain": [
       "27563"
      ]
     },
     "metadata": {},
     "execution_count": 7
    }
   ],
   "source": [
    "len(tags_reference)"
   ]
  },
  {
   "cell_type": "code",
   "execution_count": null,
   "metadata": {},
   "outputs": [],
   "source": []
  }
 ]
}